{
 "cells": [
  {
   "cell_type": "code",
   "execution_count": 130,
   "metadata": {},
   "outputs": [],
   "source": [
    "import pickle\n",
    "from glob import glob\n",
    "import matplotlib.pyplot as plt\n",
    "import numpy as np\n",
    "import sys,os\n",
    "from collections import Counter\n",
    "import matplotlib\n",
    "import matplotlib.cm as cm\n",
    "from matplotlib.animation import FFMpegWriter\n",
    "from collections import Counter\n",
    "from matplotlib_venn import venn2\n",
    "\n",
    "sys.path.append('../')\n",
    "import visualizations\n",
    "import constants\n",
    "from config import targets"
   ]
  },
  {
   "cell_type": "markdown",
   "metadata": {},
   "source": [
    "### Set parameters and load data"
   ]
  },
  {
   "cell_type": "code",
   "execution_count": 131,
   "metadata": {},
   "outputs": [],
   "source": [
    "# Set parameters\n",
    "constants.HISTORY_LENGTH=1\n",
    "GRID_SIZE = 25\n",
    "constants.GRID_SIZE = GRID_SIZE\n",
    "TARGET = targets(GRID_SIZE)['square']\n",
    "ITERATIONS = 50"
   ]
  },
  {
   "cell_type": "code",
   "execution_count": 132,
   "metadata": {},
   "outputs": [
    {
     "name": "stdout",
     "output_type": "stream",
     "text": [
      "0.7652011765824782\n"
     ]
    }
   ],
   "source": [
    "# Load NCA\n",
    "\n",
    "# filename = '../data/exp1_ksweep/k1/error_MI/error_MI_square25_2000gens_400ps_50i_k1_N4_run7.p'\n",
    "# filename = '../data/exp1_ksweep/k45/error_MI/error_MI_square25_2000gens_400ps_50i_k45_N4_run12.p'\n",
    "filename  = '../data/exp5_addcontrols_square/min_action_entropy/error_min_action_entropy_square25_2000gens_400ps_50i_k1_N4_run21.p'\n",
    "# filename = '../data/exp1_ksweep/error/error_square25_1250gens_400ps_50i_k25_run23.p'\n",
    "# filename = '../data/exp1_ksweep/error_phase1_error_phase2/error_phase1_error_phase2_square25_1250gens_400ps_50i_k25_run11.p'\n",
    "\n",
    "with open(filename, 'rb') as f:\n",
    "    stuff = pickle.load(f)\n",
    "best = stuff[-2]\n",
    "best.evaluate(objectives=['error', 'MI'], target=TARGET, g=0)\n",
    "print(best.MI*-1)"
   ]
  },
  {
   "cell_type": "markdown",
   "metadata": {},
   "source": [
    "### Define H(X) and H(X|Y)"
   ]
  },
  {
   "cell_type": "code",
   "execution_count": 133,
   "metadata": {},
   "outputs": [],
   "source": [
    "def shannon_entropy(X):\n",
    "    # H(X)\n",
    "    x_freq_dict = dict(Counter(X))\n",
    "\n",
    "    Hx = 0\n",
    "\n",
    "    for x in list(x_freq_dict.keys()):\n",
    "        px = x_freq_dict[x]/len(X)\n",
    "\n",
    "        Hx += px * np.log2(1/px)\n",
    "    \n",
    "    return Hx"
   ]
  },
  {
   "cell_type": "code",
   "execution_count": 134,
   "metadata": {},
   "outputs": [],
   "source": [
    "def conditional_shannon_entropy(X,Y):\n",
    "    # H(X|Y)\n",
    "    x_freq_dict = dict(Counter(X))\n",
    "    y_freq_dict = dict(Counter(Y))\n",
    "    joint_freq_dict = dict(Counter(zip(X,Y)))\n",
    "\n",
    "    Hx_y = 0\n",
    "\n",
    "    for y in list(y_freq_dict.keys()):\n",
    "        for x in list(x_freq_dict.keys()):\n",
    "            py = y_freq_dict[y]/len(Y)\n",
    "\n",
    "            try:\n",
    "                pxy = joint_freq_dict[(x,y)]/len(X)\n",
    "            except:\n",
    "                continue\n",
    "\n",
    "            Hx_y += pxy * np.log2(py/pxy)\n",
    "\n",
    "    return Hx_y"
   ]
  },
  {
   "cell_type": "markdown",
   "metadata": {},
   "source": [
    "### Run NCA simulation and collect action and sensor states"
   ]
  },
  {
   "cell_type": "code",
   "execution_count": 135,
   "metadata": {},
   "outputs": [],
   "source": [
    "# Run NCA\n",
    "history, sensors_timeseries, actions_timeseries = best.playback(iterations=ITERATIONS, return_SA=True)"
   ]
  },
  {
   "cell_type": "markdown",
   "metadata": {},
   "source": [
    "Restructure action and sensor states into time series of shape n_cells x timesteps"
   ]
  },
  {
   "cell_type": "code",
   "execution_count": 136,
   "metadata": {},
   "outputs": [
    {
     "name": "stdout",
     "output_type": "stream",
     "text": [
      "(625, 49)\n"
     ]
    }
   ],
   "source": [
    "# extract sensory values to a matrix\n",
    "sensor_series_mat = np.zeros(shape=(constants.GRID_SIZE*constants.GRID_SIZE, len(sensors_timeseries[constants.HISTORY_LENGTH:])), dtype=int)\n",
    "for t, sensor_mat in enumerate(sensors_timeseries[constants.HISTORY_LENGTH:]):\n",
    "    \n",
    "    sensor_mat = sensor_mat[1:-1, 1:-1,:] # remove padding\n",
    "\n",
    "    cell_sensor_list = np.mean(sensor_mat[:,:,constants.NEIGHBORHOOD+1:],axis=2).flatten().astype(int)\n",
    "    \n",
    "    for i,sensor_val in enumerate(cell_sensor_list):\n",
    "\n",
    "        sensor_series_mat[i,t] = sensor_val\n",
    "\n",
    "print(sensor_series_mat.shape)"
   ]
  },
  {
   "cell_type": "code",
   "execution_count": 137,
   "metadata": {},
   "outputs": [
    {
     "name": "stdout",
     "output_type": "stream",
     "text": [
      "(625, 49)\n"
     ]
    }
   ],
   "source": [
    "# extract action values to a matrix\n",
    "action_series_mat = np.zeros(shape=(constants.GRID_SIZE*constants.GRID_SIZE, len(actions_timeseries[:-constants.HISTORY_LENGTH])), dtype=int)\n",
    "for t, action_mat in enumerate(actions_timeseries[:-constants.HISTORY_LENGTH]):\n",
    "    \n",
    "    action_mat = action_mat[1:-1, 1:-1,:] # remove padding\n",
    "\n",
    "    cell_action_list = action_mat[:,:,-1].flatten().astype(int)\n",
    "    \n",
    "    for i,action_val in enumerate(cell_action_list):\n",
    "\n",
    "        action_series_mat[i,t] = action_val\n",
    "\n",
    "print(action_series_mat.shape)"
   ]
  },
  {
   "cell_type": "code",
   "execution_count": 138,
   "metadata": {},
   "outputs": [],
   "source": [
    "# Construct action sensor pairs\n",
    "pairs = dict(Counter(zip(action_series_mat.flatten(), sensor_series_mat.flatten())))"
   ]
  },
  {
   "cell_type": "markdown",
   "metadata": {},
   "source": [
    "### Compute entropies"
   ]
  },
  {
   "cell_type": "code",
   "execution_count": 139,
   "metadata": {},
   "outputs": [
    {
     "name": "stdout",
     "output_type": "stream",
     "text": [
      "0.7804054806439975 0.015204304061520065 0.7652011765824774\n",
      "2.340796020044816 1.5755948434623317 0.7652011765824844\n"
     ]
    }
   ],
   "source": [
    "# global\n",
    "H_A = shannon_entropy(action_series_mat.flatten())\n",
    "H_S = shannon_entropy(sensor_series_mat.flatten())\n",
    "H_AS = conditional_shannon_entropy(action_series_mat.flatten(), sensor_series_mat.flatten())\n",
    "H_SA = conditional_shannon_entropy(sensor_series_mat.flatten(), action_series_mat.flatten())\n",
    "\n",
    "print(H_A, H_AS, H_A-H_AS)\n",
    "print(H_S, H_SA, H_S-H_SA)"
   ]
  },
  {
   "cell_type": "markdown",
   "metadata": {},
   "source": [
    "### Create venn diagram"
   ]
  },
  {
   "cell_type": "code",
   "execution_count": 140,
   "metadata": {},
   "outputs": [
    {
     "data": {
      "text/plain": [
       "<matplotlib_venn._common.VennDiagram at 0x7fb5619cb5b0>"
      ]
     },
     "execution_count": 140,
     "metadata": {},
     "output_type": "execute_result"
    },
    {
     "data": {
      "image/png": "[encoded data removed]",
      "text/plain": [
       "<Figure size 640x480 with 1 Axes>"
      ]
     },
     "metadata": {},
     "output_type": "display_data"
    }
   ],
   "source": [
    "def round(x):\n",
    "    return np.round(x,decimals=2)\n",
    "\n",
    "venn2(subsets = (H_A, H_S, H_A-H_AS), set_labels = ('H(A)', 'H(S)'), subset_label_formatter=round)"
   ]
  },
  {
   "cell_type": "markdown",
   "metadata": {},
   "source": [
    "### Action distributions"
   ]
  },
  {
   "cell_type": "code",
   "execution_count": 141,
   "metadata": {},
   "outputs": [
    {
     "data": {
      "text/plain": [
       "<matplotlib.collections.PathCollection at 0x7fb564b86b80>"
      ]
     },
     "execution_count": 141,
     "metadata": {},
     "output_type": "execute_result"
    },
    {
     "data": {
      "image/png": "[encoded data removed]",
      "text/plain": [
       "<Figure size 640x480 with 1 Axes>"
      ]
     },
     "metadata": {},
     "output_type": "display_data"
    }
   ],
   "source": [
    "action_freq_dict = dict(sorted(Counter(action_series_mat.flatten()).items(), key=lambda item: item[0], reverse=False))\n",
    "\n",
    "plt.scatter(action_freq_dict.keys(), action_freq_dict.values(),alpha=0.6)\n"
   ]
  }
 ],
 "metadata": {
  "kernelspec": {
   "display_name": "Python 3",
   "language": "python",
   "name": "python3"
  },
  "language_info": {
   "codemirror_mode": {
    "name": "ipython",
    "version": 3
   },
   "file_extension": ".py",
   "mimetype": "text/x-python",
   "name": "python",
   "nbconvert_exporter": "python",
   "pygments_lexer": "ipython3",
   "version": "3.8.2"
  },
  "orig_nbformat": 4
 },
 "nbformat": 4,
 "nbformat_minor": 2
}
