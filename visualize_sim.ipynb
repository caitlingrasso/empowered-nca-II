{
 "cells": [
  {
   "cell_type": "code",
   "execution_count": 1,
   "metadata": {},
   "outputs": [],
   "source": [
    "import pickle\n",
    "from glob import glob\n",
    "import matplotlib.pyplot as plt\n",
    "import numpy as np\n",
    "import sys,os\n",
    "\n",
    "sys.path.append('../')\n",
    "import visualizations\n",
    "import constants\n",
    "from config import targets"
   ]
  },
  {
   "cell_type": "code",
   "execution_count": 4,
   "metadata": {},
   "outputs": [],
   "source": [
    "# Set parameters\n",
    "constants.HISTORY_LENGTH=1\n",
    "GRID_SIZE = 25\n",
    "constants.GRID_SIZE=GRID_SIZE\n",
    "TARGET = targets(GRID_SIZE)['square']\n",
    "ITERATIONS = 50"
   ]
  },
  {
   "cell_type": "code",
   "execution_count": 3,
   "metadata": {},
   "outputs": [],
   "source": [
    "filename = 'data/exp1/error/error_square25_10gens_2ps_50i_k45_N4_run1.p'\n",
    "\n",
    "with open(filename, 'rb') as f:\n",
    "    best,stats = pickle.load(f)"
   ]
  },
  {
   "cell_type": "code",
   "execution_count": 5,
   "metadata": {},
   "outputs": [],
   "source": [
    "# Run NCA as in training\n",
    "train_history = best.playback(iterations=ITERATIONS)\n",
    "\n",
    "# Initial state\n",
    "init_grid = train_history[0]\n",
    "\n",
    "# Final state\n",
    "final_state = train_history[-1]"
   ]
  },
  {
   "cell_type": "code",
   "execution_count": 6,
   "metadata": {},
   "outputs": [
    {
     "data": {
      "image/png": "[encoded data removed]",
      "text/plain": [
       "<Figure size 640x480 with 1 Axes>"
      ]
     },
     "metadata": {},
     "output_type": "display_data"
    }
   ],
   "source": [
    "# Visualize initial condition\n",
    "visualizations.display_body_signal(init_grid, target=TARGET, title='initial condition', original_size=GRID_SIZE)\n"
   ]
  },
  {
   "cell_type": "code",
   "execution_count": 7,
   "metadata": {},
   "outputs": [
    {
     "data": {
      "image/png": "[encoded data removed]",
      "text/plain": [
       "<Figure size 640x480 with 1 Axes>"
      ]
     },
     "metadata": {},
     "output_type": "display_data"
    },
    {
     "name": "stdout",
     "output_type": "stream",
     "text": [
      "Loss: 0.5534117647058824\n",
      "Empowerment (k=1): 0.8205726627732282\n"
     ]
    }
   ],
   "source": [
    "# Visualize final grid state of the NCA\n",
    "visualizations.display_body_signal(final_state, target=TARGET, title='final grid condition', original_size=GRID_SIZE)\n",
    "# visualizations.display_body_signal(final_state, target=TARGET, title='', original_size=GRID_SIZE, save=True, fn='gecco23_figs/best_xenobot.png')\n",
    "\n",
    "# Print loss and empowerment\n",
    "best.evaluate(['error','MI'], TARGET,g=2000)\n",
    "print('Loss:', best.get_objective('error'))\n",
    "print('Empowerment (k={}):'.format(constants.HISTORY_LENGTH), best.get_objective('MI')*-1)"
   ]
  },
  {
   "cell_type": "code",
   "execution_count": 9,
   "metadata": {},
   "outputs": [],
   "source": [
    "# Save movie of damage recovery\n",
    "os.makedirs('results/', exist_ok=True)\n",
    "os.makedirs('results/exp1', exist_ok=True)\n",
    "video_filename = 'results/exp1/'+filename.split('/')[-1].split('.')[0]+'.mp4'\n",
    "visualizations.save_movie(train_history, video_filename, original_size=GRID_SIZE)"
   ]
  }
 ],
 "metadata": {
  "kernelspec": {
   "display_name": "Python 3.8.2 64-bit",
   "language": "python",
   "name": "python3"
  },
  "language_info": {
   "codemirror_mode": {
    "name": "ipython",
    "version": 3
   },
   "file_extension": ".py",
   "mimetype": "text/x-python",
   "name": "python",
   "nbconvert_exporter": "python",
   "pygments_lexer": "ipython3",
   "version": "3.8.2"
  },
  "orig_nbformat": 4,
  "vscode": {
   "interpreter": {
    "hash": "aee8b7b246df8f9039afb4144a1f6fd8d2ca17a180786b69acc140d282b71a49"
   }
  }
 },
 "nbformat": 4,
 "nbformat_minor": 2
}
