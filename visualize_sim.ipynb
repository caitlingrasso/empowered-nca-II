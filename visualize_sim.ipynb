{
 "cells": [
  {
   "cell_type": "code",
   "execution_count": 41,
   "metadata": {},
   "outputs": [],
   "source": [
    "import pickle\n",
    "from glob import glob\n",
    "import matplotlib.pyplot as plt\n",
    "import numpy as np\n",
    "import sys,os\n",
    "\n",
    "import src.visualizations\n",
    "import src.constants as constants\n",
    "from src.targets import targets"
   ]
  },
  {
   "cell_type": "code",
   "execution_count": 42,
   "metadata": {},
   "outputs": [],
   "source": [
    "# Set parameters\n",
    "constants.HISTORY_LENGTH=1\n",
    "GRID_SIZE = 50\n",
    "constants.GRID_SIZE=GRID_SIZE\n",
    "TARGET = targets(GRID_SIZE)['square']\n",
    "ITERATIONS = 100"
   ]
  },
  {
   "cell_type": "code",
   "execution_count": 43,
   "metadata": {},
   "outputs": [],
   "source": [
    "filename = 'data/exp3_upscale//error_phase1_error_phase2/error_phase1_error_phase2_square50_1500gens_400ps_100i_k1_N4_run14.p'\n",
    "\n",
    "# with open(filename, 'rb') as f:\n",
    "#     best,stats = pickle.load(f)\n",
    "\n",
    "with open(filename, 'rb') as f:\n",
    "    stuff = pickle.load(f)\n",
    "    best = stuff[3]"
   ]
  },
  {
   "cell_type": "code",
   "execution_count": 44,
   "metadata": {},
   "outputs": [],
   "source": [
    "# save filenames \n",
    "image_filename = 'results/exp3_upscale/'+filename.split('/')[-1].split('.')[0]+'.png'\n",
    "video_filename = 'results/exp3_upscale/'+filename.split('/')[-1].split('.')[0]+'.mp4'"
   ]
  },
  {
   "cell_type": "code",
   "execution_count": 45,
   "metadata": {},
   "outputs": [],
   "source": [
    "# Run NCA as in training\n",
    "train_history = best.playback(iterations=ITERATIONS)\n",
    "\n",
    "# Initial state\n",
    "init_grid = train_history[0]\n",
    "\n",
    "# Final state\n",
    "final_state = train_history[-1]"
   ]
  },
  {
   "cell_type": "code",
   "execution_count": 46,
   "metadata": {},
   "outputs": [
    {
     "data": {
      "image/png": "[encoded data removed]",
      "text/plain": [
       "<Figure size 640x480 with 1 Axes>"
      ]
     },
     "metadata": {},
     "output_type": "display_data"
    }
   ],
   "source": [
    "# Visualize initial condition\n",
    "visualizations.display_body_signal(init_grid, target=TARGET, original_size=GRID_SIZE)\n",
    "# visualizations.display_body_signal(init_grid, target=TARGET, original_size=GRID_SIZE, save=True, fn='results/exp3_upscale/square50_IC.png')\n"
   ]
  },
  {
   "cell_type": "code",
   "execution_count": 47,
   "metadata": {},
   "outputs": [
    {
     "data": {
      "image/png": "[encoded data removed]",
      "text/plain": [
       "<Figure size 640x480 with 1 Axes>"
      ]
     },
     "metadata": {},
     "output_type": "display_data"
    },
    {
     "name": "stdout",
     "output_type": "stream",
     "text": [
      "Loss: 0.1826352941176471\n",
      "Empowerment (k=1): 0.3055091069948095\n"
     ]
    }
   ],
   "source": [
    "# Visualize final grid state of the NCA\n",
    "visualizations.display_body_signal(final_state, target=TARGET, original_size=GRID_SIZE, save=True, fn=image_filename)\n",
    "\n",
    "# Print loss and empowerment\n",
    "best.evaluate(['error','MI'], TARGET,g=2000)\n",
    "print('Loss:', best.get_objective('error'))\n",
    "print('Empowerment (k={}):'.format(constants.HISTORY_LENGTH), best.get_objective('MI')*-1)"
   ]
  },
  {
   "cell_type": "code",
   "execution_count": 48,
   "metadata": {},
   "outputs": [],
   "source": [
    "# visualizations.save_movie(train_history, video_filename, original_size=GRID_SIZE)"
   ]
  },
  {
   "cell_type": "code",
   "execution_count": null,
   "metadata": {},
   "outputs": [],
   "source": []
  }
 ],
 "metadata": {
  "kernelspec": {
   "display_name": "Python 3.8.2 64-bit",
   "language": "python",
   "name": "python3"
  },
  "language_info": {
   "codemirror_mode": {
    "name": "ipython",
    "version": 3
   },
   "file_extension": ".py",
   "mimetype": "text/x-python",
   "name": "python",
   "nbconvert_exporter": "python",
   "pygments_lexer": "ipython3",
   "version": "3.8.2"
  },
  "orig_nbformat": 4,
  "vscode": {
   "interpreter": {
    "hash": "aee8b7b246df8f9039afb4144a1f6fd8d2ca17a180786b69acc140d282b71a49"
   }
  }
 },
 "nbformat": 4,
 "nbformat_minor": 2
}
